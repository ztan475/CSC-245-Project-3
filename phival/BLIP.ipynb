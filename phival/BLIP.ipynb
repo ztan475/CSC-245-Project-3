{
 "cells": [
  {
   "cell_type": "code",
   "execution_count": null,
   "id": "aa7a6221-7e2e-4509-ab39-689f10f02ce9",
   "metadata": {},
   "outputs": [],
   "source": [
    "import json\n",
    "from torch.utils.data import Dataset, DataLoader\n",
    "from PIL import Image\n",
    "from transformers import BlipProcessor, BlipForConditionalGeneration\n",
    "from transformers import AdamW\n",
    "from torch.optim import AdamW\n",
    "from torch.nn import CrossEntropyLoss\n",
    "from torch.utils.data import DataLoader\n",
    "from torch.nn.utils.rnn import pad_sequence\n",
    "import torch"
   ]
  },
  {
   "cell_type": "code",
   "execution_count": null,
   "id": "8450f188-90fb-4a25-9f7e-fe945364afeb",
   "metadata": {},
   "outputs": [],
   "source": [
    "class CustomImageDataset(Dataset):\n",
    "    def __init__(self, json_file, img_dir, processor):\n",
    "        with open(json_file, 'r') as f:\n",
    "            self.data = json.load(f)\n",
    "        self.img_dir = img_dir\n",
    "        self.processor = processor\n",
    "\n",
    "    def __len__(self):\n",
    "        return len(self.data)\n",
    "\n",
    "    def format_output(self, item):\n",
    "        return (\n",
    "            f\"content: {item['content']}\\n\"\n",
    "            f\"color: {item['color']}\\n\"\n",
    "            f\"composition: {item['composition']}\\n\"\n",
    "            f\"quality: {item['quality']}\"\n",
    "        )\n",
    "\n",
    "    def __getitem__(self, idx):\n",
    "        item = self.data[idx]\n",
    "        img_path = f\"{self.img_dir}/{item['image']}\"\n",
    "        image = Image.open(img_path).convert(\"RGB\")\n",
    "        \n",
    "        combined_caption = self.format_output(item)\n",
    "        inputs = self.processor(image, combined_caption, return_tensors=\"pt\", padding=True, truncation=True)\n",
    "        return inputs"
   ]
  },
  {
   "cell_type": "code",
   "execution_count": null,
   "id": "3c943e48-ab7c-4860-83a9-792c9d9346c2",
   "metadata": {},
   "outputs": [],
   "source": [
    "def generate_image_description(image_path, prompt):\n",
    "    image = Image.open(image_path).convert(\"RGB\")\n",
    "    inputs = processor(image, prompt, return_tensors=\"pt\").to(device)\n",
    "    outputs = model.generate(**inputs, max_length=200)\n",
    "    description = processor.decode(outputs[0], skip_special_tokens=True)\n",
    "    return json.loads(description)"
   ]
  },
  {
   "cell_type": "code",
   "execution_count": null,
   "id": "74449a81-ed6f-4c77-a7fe-b33eca9d90c5",
   "metadata": {},
   "outputs": [],
   "source": [
    "def collate_fn(batch):\n",
    "    input_ids = [item['input_ids'].squeeze(0) for item in batch]\n",
    "    attention_masks = [item['attention_mask'].squeeze(0) for item in batch]\n",
    "    pixel_values = torch.stack([item['pixel_values'].squeeze(0) for item in batch])\n",
    "\n",
    "    input_ids_padded = pad_sequence(input_ids, batch_first=True, padding_value=0)\n",
    "    attention_masks_padded = pad_sequence(attention_masks, batch_first=True, padding_value=0)\n",
    "\n",
    "    return {\n",
    "        'input_ids': input_ids_padded,\n",
    "        'attention_mask': attention_masks_padded,\n",
    "        'pixel_values': pixel_values\n",
    "    }\n"
   ]
  },
  {
   "cell_type": "code",
   "execution_count": null,
   "id": "1b342ecb-1dfd-4dae-b09c-5582f2746314",
   "metadata": {},
   "outputs": [],
   "source": [
    "def generate_image_description(image_path, max_length):\n",
    "    \n",
    "    image = Image.open(image_path).convert(\"RGB\")\n",
    "    \n",
    "    inputs = processor(images=image, return_tensors=\"pt\").to(device)\n",
    "    \n",
    "    output = model.generate(**inputs, max_length=max_length)\n",
    "    \n",
    "    evaluation = processor.decode(output[0], skip_special_tokens=True)\n",
    "    return evaluation"
   ]
  },
  {
   "cell_type": "code",
   "execution_count": null,
   "id": "99f4d742-cc68-43cd-aa96-ee9ef8f1a8fb",
   "metadata": {},
   "outputs": [],
   "source": [
    "def parse_output(description):\n",
    "    lines = description.strip().split('\\n')\n",
    "    parsed_output = {}\n",
    "    for line in lines:\n",
    "        if ': ' in line:\n",
    "            key, value = line.split(': ', 1)\n",
    "            parsed_output[key.strip()] = value.strip()\n",
    "    return parsed_output"
   ]
  },
  {
   "cell_type": "code",
   "execution_count": null,
   "id": "58ed489c-6a89-40db-888d-18243eb94f65",
   "metadata": {},
   "outputs": [],
   "source": [
    "def format_with_newlines(text):\n",
    "    lines = text.split('. ')\n",
    "    formatted_text = \"\\n\".join([line + \".\" for line in lines if line.strip()])\n",
    "    return formatted_text"
   ]
  },
  {
   "cell_type": "code",
   "execution_count": null,
   "id": "5fd95f18-569f-470a-9ffa-ef2ef741523e",
   "metadata": {},
   "outputs": [],
   "source": [
    "epochs = 100\n",
    "batch_size = 3\n",
    "learning_rate = 0.0001\n",
    "\n",
    "device = torch.device(\"cuda\" if torch.cuda.is_available() else \"cpu\")\n",
    "model = BlipForConditionalGeneration.from_pretrained(\"Salesforce/blip-image-captioning-base\")\n",
    "model.to(device)\n",
    "\n",
    "processor = BlipProcessor.from_pretrained(\"Salesforce/blip-image-captioning-base\")\n",
    "\n",
    "dataset = CustomImageDataset(\"dataset/annotations.json\", \"dataset/images\", processor)\n",
    "\n",
    "dataloader = DataLoader(dataset, batch_size=batch_size, collate_fn=collate_fn)\n",
    "\n",
    "optimizer = AdamW(model.parameters(), lr=learning_rate)\n",
    "\n",
    "loss_fn = CrossEntropyLoss()\n",
    "\n",
    "for epoch in range(epochs):\n",
    "    model.train()\n",
    "    total_loss = 0\n",
    "    for step, batch in enumerate(dataloader):\n",
    "        input_ids = batch['input_ids'].to(device)\n",
    "        attention_mask = batch['attention_mask'].to(device)\n",
    "        pixel_values = batch['pixel_values'].to(device)\n",
    "\n",
    "        outputs = model(pixel_values=pixel_values, input_ids=input_ids, attention_mask=attention_mask, labels=input_ids)\n",
    "        \n",
    "        loss = outputs.loss\n",
    "        loss.backward()\n",
    "\n",
    "        optimizer.step()\n",
    "        optimizer.zero_grad()\n",
    "        \n",
    "        total_loss += loss.item()\n",
    "\n",
    "        print(f\"Epoch [{epoch + 1}], Step [{step + 1}/{len(dataloader)}], Loss: {loss.item():.4f}\")\n",
    "    \n",
    "    avg_loss = total_loss / len(dataloader)\n",
    "    print(f\"Average Loss: {avg_loss:.4f}\")"
   ]
  },
  {
   "cell_type": "code",
   "execution_count": null,
   "id": "8ca375f1-491f-4056-9fe9-7918ad66da52",
   "metadata": {},
   "outputs": [],
   "source": [
    "image_path = \"dataset/images/ID10.jpeg\" \n",
    "evaluation = generate_image_description(image_path, max_length=320)\n",
    "output = format_with_newlines(evaluation)\n",
    "print(\"Evaluation:\\n\" + output)"
   ]
  }
 ],
 "metadata": {
  "kernelspec": {
   "display_name": "Python 3 (ipykernel)",
   "language": "python",
   "name": "python3"
  },
  "language_info": {
   "codemirror_mode": {
    "name": "ipython",
    "version": 3
   },
   "file_extension": ".py",
   "mimetype": "text/x-python",
   "name": "python",
   "nbconvert_exporter": "python",
   "pygments_lexer": "ipython3",
   "version": "3.9.18"
  }
 },
 "nbformat": 4,
 "nbformat_minor": 5
}
